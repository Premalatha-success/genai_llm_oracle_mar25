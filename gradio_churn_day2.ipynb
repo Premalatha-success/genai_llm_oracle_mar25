{
  "nbformat": 4,
  "nbformat_minor": 0,
  "metadata": {
    "colab": {
      "provenance": []
    },
    "kernelspec": {
      "name": "python3",
      "display_name": "Python 3"
    },
    "language_info": {
      "name": "python"
    }
  },
  "cells": [
    {
      "cell_type": "code",
      "source": [
        "pip install gradio"
      ],
      "metadata": {
        "id": "wgTK5JVd6_45",
        "outputId": "17c80309-680d-44b7-94fd-5b364eac92d2",
        "colab": {
          "base_uri": "https://localhost:8080/"
        }
      },
      "execution_count": null,
      "outputs": [
        {
          "output_type": "stream",
          "name": "stdout",
          "text": [
            "Collecting gradio\n",
            "  Downloading gradio-5.20.0-py3-none-any.whl.metadata (16 kB)\n",
            "Collecting aiofiles<24.0,>=22.0 (from gradio)\n",
            "  Downloading aiofiles-23.2.1-py3-none-any.whl.metadata (9.7 kB)\n",
            "Requirement already satisfied: anyio<5.0,>=3.0 in /usr/local/lib/python3.11/dist-packages (from gradio) (3.7.1)\n",
            "Collecting fastapi<1.0,>=0.115.2 (from gradio)\n",
            "  Downloading fastapi-0.115.11-py3-none-any.whl.metadata (27 kB)\n",
            "Collecting ffmpy (from gradio)\n",
            "  Downloading ffmpy-0.5.0-py3-none-any.whl.metadata (3.0 kB)\n",
            "Collecting gradio-client==1.7.2 (from gradio)\n",
            "  Downloading gradio_client-1.7.2-py3-none-any.whl.metadata (7.1 kB)\n",
            "Collecting groovy~=0.1 (from gradio)\n",
            "  Downloading groovy-0.1.2-py3-none-any.whl.metadata (6.1 kB)\n",
            "Requirement already satisfied: httpx>=0.24.1 in /usr/local/lib/python3.11/dist-packages (from gradio) (0.28.1)\n",
            "Requirement already satisfied: huggingface-hub>=0.28.1 in /usr/local/lib/python3.11/dist-packages (from gradio) (0.28.1)\n",
            "Requirement already satisfied: jinja2<4.0 in /usr/local/lib/python3.11/dist-packages (from gradio) (3.1.5)\n",
            "Collecting markupsafe~=2.0 (from gradio)\n",
            "  Downloading MarkupSafe-2.1.5-cp311-cp311-manylinux_2_17_x86_64.manylinux2014_x86_64.whl.metadata (3.0 kB)\n",
            "Requirement already satisfied: numpy<3.0,>=1.0 in /usr/local/lib/python3.11/dist-packages (from gradio) (1.26.4)\n",
            "Requirement already satisfied: orjson~=3.0 in /usr/local/lib/python3.11/dist-packages (from gradio) (3.10.15)\n",
            "Requirement already satisfied: packaging in /usr/local/lib/python3.11/dist-packages (from gradio) (24.2)\n",
            "Requirement already satisfied: pandas<3.0,>=1.0 in /usr/local/lib/python3.11/dist-packages (from gradio) (2.2.2)\n",
            "Requirement already satisfied: pillow<12.0,>=8.0 in /usr/local/lib/python3.11/dist-packages (from gradio) (11.1.0)\n",
            "Requirement already satisfied: pydantic>=2.0 in /usr/local/lib/python3.11/dist-packages (from gradio) (2.10.6)\n",
            "Collecting pydub (from gradio)\n",
            "  Downloading pydub-0.25.1-py2.py3-none-any.whl.metadata (1.4 kB)\n",
            "Collecting python-multipart>=0.0.18 (from gradio)\n",
            "  Downloading python_multipart-0.0.20-py3-none-any.whl.metadata (1.8 kB)\n",
            "Requirement already satisfied: pyyaml<7.0,>=5.0 in /usr/local/lib/python3.11/dist-packages (from gradio) (6.0.2)\n"
          ]
        }
      ]
    },
    {
      "cell_type": "code",
      "execution_count": null,
      "metadata": {
        "id": "6NEAqrbm6-jQ"
      },
      "outputs": [],
      "source": [
        "import pandas as pd\n",
        "import numpy as np\n",
        "import gradio as gr\n",
        "from sklearn.model_selection import train_test_split\n",
        "from sklearn.preprocessing import LabelEncoder, StandardScaler\n",
        "from sklearn.ensemble import RandomForestClassifier\n",
        "from sklearn.metrics import accuracy_score\n",
        "\n",
        "# Load the dataset\n",
        "file_path = \"https://raw.githubusercontent.com/Premalatha-success/Datasets/refs/heads/main/Churn_Modelling.csv\"\n",
        "df = pd.read_csv(file_path)\n",
        "\n",
        "# Drop irrelevant columns\n",
        "df = df.drop([\"RowNumber\", \"CustomerId\", \"Surname\"], axis=1)\n",
        "\n",
        "# Encode categorical variables\n",
        "le_gender = LabelEncoder()\n",
        "df[\"Gender\"] = le_gender.fit_transform(df[\"Gender\"])\n",
        "\n",
        "le_geo = LabelEncoder()\n",
        "df[\"Geography\"] = le_geo.fit_transform(df[\"Geography\"])\n",
        "\n",
        "# Define features and target\n",
        "X = df.drop(\"Exited\", axis=1)\n",
        "y = df[\"Exited\"]\n",
        "\n",
        "# Split data\n",
        "X_train, X_test, y_train, y_test = train_test_split(X, y, test_size=0.2, random_state=42)\n",
        "\n",
        "# Standardize features\n",
        "scaler = StandardScaler()\n",
        "X_train = scaler.fit_transform(X_train)\n",
        "X_test = scaler.transform(X_test)\n",
        "\n",
        "# Train the model\n",
        "model = RandomForestClassifier(n_estimators=100, random_state=42)\n",
        "model.fit(X_train, y_train)\n",
        "\n",
        "# Evaluation\n",
        "y_pred = model.predict(X_test)\n",
        "accuracy = accuracy_score(y_test, y_pred)\n",
        "print(f\"Model Accuracy: {accuracy:.2f}\")\n",
        "\n",
        "# Fix unknown values in prediction function\n",
        "def predict_churn(CreditScore, Geography, Gender, Age, Tenure, Balance, NumOfProducts,\n",
        "                  HasCrCard, IsActiveMember, EstimatedSalary):\n",
        "    try:\n",
        "        # Handle unknown Geography values\n",
        "        if Geography not in le_geo.classes_:\n",
        "            return \"Invalid Geography Input\"\n",
        "\n",
        "        # Handle unknown Gender values\n",
        "        if Gender not in le_gender.classes_:\n",
        "            return \"Invalid Gender Input\"\n",
        "\n",
        "        # Encode categorical inputs\n",
        "        Geography = le_geo.transform([Geography])[0]\n",
        "        Gender = le_gender.transform([Gender])[0]\n",
        "\n",
        "        # Prepare input array\n",
        "        input_data = np.array([[CreditScore, Geography, Gender, Age, Tenure, Balance,\n",
        "                                NumOfProducts, HasCrCard, IsActiveMember, EstimatedSalary]])\n",
        "\n",
        "        # Scale input\n",
        "        input_data = scaler.transform(input_data)\n",
        "\n",
        "        # Predict\n",
        "        prediction = model.predict(input_data)[0]\n",
        "        return \"Churn\" if prediction == 1 else \"Not Churn\"\n",
        "\n",
        "    except Exception as e:\n",
        "        return f\"Error: {str(e)}\"\n",
        "\n",
        "# Deploy with Gradio\n",
        "inputs = [\n",
        "    gr.Number(label=\"Credit Score\"),\n",
        "    gr.Dropdown(le_geo.classes_.tolist(), label=\"Geography\"),  # Ensure dropdown values match trained labels\n",
        "    gr.Dropdown(le_gender.classes_.tolist(), label=\"Gender\"),  # Ensure dropdown values match trained labels\n",
        "    gr.Number(label=\"Age\"),\n",
        "    gr.Number(label=\"Tenure\"),\n",
        "    gr.Number(label=\"Balance\"),\n",
        "    gr.Number(label=\"Number of Products\"),\n",
        "    gr.Radio([0, 1], label=\"Has Credit Card\"),\n",
        "    gr.Radio([0, 1], label=\"Is Active Member\"),\n",
        "    gr.Number(label=\"Estimated Salary\")\n",
        "]\n",
        "\n",
        "output = gr.Textbox(label=\"Churn Prediction\")\n",
        "\n",
        "gr.Interface(fn=predict_churn, inputs=inputs, outputs=output, title=\"Churn Prediction Model\").launch()\n"
      ]
    },
    {
      "cell_type": "code",
      "source": [],
      "metadata": {
        "id": "luXICXDId5yt"
      },
      "execution_count": null,
      "outputs": []
    }
  ]
}